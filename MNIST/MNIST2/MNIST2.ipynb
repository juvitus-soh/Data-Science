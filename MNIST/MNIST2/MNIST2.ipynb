{
  "nbformat": 4,
  "nbformat_minor": 0,
  "metadata": {
    "colab": {
      "provenance": []
    },
    "kernelspec": {
      "name": "python3",
      "display_name": "Python 3"
    },
    "language_info": {
      "name": "python"
    }
  },
  "cells": [
    {
      "cell_type": "code",
      "execution_count": 11,
      "metadata": {
        "id": "dZ0s-ZgdjCCn"
      },
      "outputs": [],
      "source": [
        "from sklearn.datasets import load_digits\n",
        "from sklearn.model_selection import train_test_split\n",
        "from sklearn.neighbors import KNeighborsClassifier\n",
        "from sklearn.svm import SVC\n",
        "from sklearn.metrics import accuracy_score, precision_score, recall_score, f1_score"
      ]
    },
    {
      "cell_type": "code",
      "source": [
        "# Step 1: Splitting the Dataset\n",
        "digits = load_digits()\n",
        "X = digits.data\n",
        "y = digits.target\n",
        "X_train, X_test, y_train, y_test = train_test_split(X, y, test_size=0.2, random_state=42)"
      ],
      "metadata": {
        "id": "nKEBLG_u9eYV"
      },
      "execution_count": 12,
      "outputs": []
    },
    {
      "cell_type": "markdown",
      "source": [
        "First, I imported the scikit-learn package using the command `from sklearn.model_selection import train_test_split`.\n",
        "\n",
        "Then, I defined the testing and training variables. I allocated 20% of my data set for testing, which is conventionally advisable. This left the remaining 80% to be used as the training data set."
      ],
      "metadata": {
        "id": "NGjBBvvkCBaY"
      }
    },
    {
      "cell_type": "code",
      "source": [
        "# Step 2: kNN Classifier\n",
        "knn = KNeighborsClassifier(n_neighbors=10)\n",
        "knn.fit(X_train, y_train)\n",
        "y_pred_knn = knn.predict(X_test)"
      ],
      "metadata": {
        "id": "YHOwKA2x9ljV"
      },
      "execution_count": 13,
      "outputs": []
    },
    {
      "cell_type": "markdown",
      "source": [
        "The code first creates a k-nearest neighbors classifier object called knn. The n_neighbors parameter is set to 10(k = 10), which means that the model will consider the 10 nearest neighbors when making predictions. Then, the classifier is fitted to the training data. This means that the model learns the relationships between the features and the target variable from the training data. Finally, the classifier makes predictions on the test data. The predictions are stored in the variable y_pred_knn."
      ],
      "metadata": {
        "id": "cFgR7YLxC2Ps"
      }
    },
    {
      "cell_type": "code",
      "source": [
        "# Evaluation metrics for kNN\n",
        "accuracy_knn = accuracy_score(y_test, y_pred_knn)\n",
        "precision_knn = precision_score(y_test, y_pred_knn, average='macro')\n",
        "recall_knn = recall_score(y_test, y_pred_knn, average='macro')\n",
        "f1_knn = f1_score(y_test, y_pred_knn, average='macro')\n",
        "\n",
        "print(\"kNN Classifier Metrics:\")\n",
        "print(\"Accuracy:\", accuracy_knn)\n",
        "print(\"Precision:\", precision_knn)\n",
        "print(\"Recall:\", recall_knn)\n",
        "print(\"F1 Score:\", f1_knn)"
      ],
      "metadata": {
        "colab": {
          "base_uri": "https://localhost:8080/"
        },
        "id": "hJ01xwzs-SxH",
        "outputId": "5040c7e7-0169-456a-8fb0-0071687f8ec8"
      },
      "execution_count": 14,
      "outputs": [
        {
          "output_type": "stream",
          "name": "stdout",
          "text": [
            "kNN Classifier Metrics:\n",
            "Accuracy: 0.9833333333333333\n",
            "Precision: 0.9836898803735068\n",
            "Recall: 0.9840780141843972\n",
            "F1 Score: 0.9835964539483891\n"
          ]
        }
      ]
    },
    {
      "cell_type": "markdown",
      "source": [
        "The accuracy metric was used to evaluate the model's performance in the classification task. The model achieved an accuracy of 98.3%, which indicates that it made correct predictions for a significant portion of the test data. This suggests that the model successfully learned meaningful patterns from the training data and performed well on unseen instances. The high accuracy of the model highlights its effectiveness in the classification task."
      ],
      "metadata": {
        "id": "ObK9QZLQFdgX"
      }
    },
    {
      "cell_type": "code",
      "source": [
        "# Step 3: SVM Classifier\n",
        "svm = SVC(kernel='rbf', C=1.0, gamma='scale')\n",
        "svm.fit(X_train, y_train)\n",
        "y_pred_svm = svm.predict(X_test)\n",
        "\n",
        "# Evaluation metrics for SVM\n",
        "accuracy_svm = accuracy_score(y_test, y_pred_svm)\n",
        "precision_svm = precision_score(y_test, y_pred_svm, average='macro')\n",
        "recall_svm = recall_score(y_test, y_pred_svm, average='macro')\n",
        "f1_svm = f1_score(y_test, y_pred_svm, average='macro')\n",
        "\n",
        "print(\"SVM Classifier Metrics:\")\n",
        "print(\"Accuracy:\", accuracy_svm)\n",
        "print(\"Precision:\", precision_svm)\n",
        "print(\"Recall:\", recall_svm)\n",
        "print(\"F1 Score:\", f1_svm)"
      ],
      "metadata": {
        "colab": {
          "base_uri": "https://localhost:8080/"
        },
        "id": "azNibfSf-bjE",
        "outputId": "9606f640-19b1-4ce2-8b15-d5a97687efe5"
      },
      "execution_count": 15,
      "outputs": [
        {
          "output_type": "stream",
          "name": "stdout",
          "text": [
            "SVM Classifier Metrics:\n",
            "Accuracy: 0.9861111111111112\n",
            "Precision: 0.9871533861771657\n",
            "Recall: 0.9865978306216103\n",
            "F1 Score: 0.9868277979964809\n"
          ]
        }
      ]
    },
    {
      "cell_type": "markdown",
      "source": [
        "The SVM classifier is initialized with the parameters kernel='rbf', C=1.0, and gamma='scale'. These parameters define the kernel function, regularization parameter, and kernel coefficient, respectively. The classifier is trained using the training data (X_train and y_train).\n",
        "The trained SVM classifier is used to predict the labels for the test data (X_test). The predicted labels are stored in the variable y_pred_svm. To evaluate the performance of the SVM classifier, several metrics are computed, including accuracy, precision, recall, and F1 score. These metrics are calculated by comparing the predicted labels (y_pred_svm) with the ground truth labels (y_test). The calculated metrics are then output to the console."
      ],
      "metadata": {
        "id": "qhoxq5xnHSeR"
      }
    },
    {
      "cell_type": "code",
      "source": [
        "print(\"Performance Comparison:\")\n",
        "if accuracy_svm > accuracy_knn:\n",
        "    print(\"SVM classifier outperforms kNN classifier.\")\n",
        "else:\n",
        "    print(\"kNN classifier outperforms SVM classifier.\")"
      ],
      "metadata": {
        "colab": {
          "base_uri": "https://localhost:8080/"
        },
        "id": "IKPolVyoH18y",
        "outputId": "0af12238-88fa-4a65-9721-8c08cb4db1aa"
      },
      "execution_count": 16,
      "outputs": [
        {
          "output_type": "stream",
          "name": "stdout",
          "text": [
            "Performance Comparison:\n",
            "SVM classifier outperforms kNN classifier.\n"
          ]
        }
      ]
    },
    {
      "cell_type": "markdown",
      "source": [
        "The kNN classifier and the SVM classifier have been evaluated and compared using various performance metrics. Based on the evaluation results, the SVM classifier outperforms the kNN classifier in terms of accuracy, precision, recall, and F1 score.\n",
        "\n",
        "The kNN classifier achieved an accuracy of 0.9833, while the SVM classifier achieved a slightly higher accuracy of 0.9861. Similarly, the precision, recall, and F1 score of the SVM classifier (0.9872, 0.9866, and 0.9868, respectively) are slightly higher compared to those of the kNN classifier (0.9837, 0.9841, and 0.9836, respectively).\n",
        "\n",
        "These results suggest that the SVM classifier has a slightly better overall performance in classifying the given dataset compared to the kNN classifier.\n",
        "In terms of recommendations, the choice between the kNN classifier and the SVM classifier depends on the specific requirements and characteristics of the problem at hand:\n",
        "\n",
        "kNN Classifier: The kNN classifier is a simple and intuitive algorithm that can perform well in scenarios where the data has clear decision boundaries and instances of the same class are clustered together. It is also suitable when there is a need for interpretability or when the dataset is relatively small. However, kNN can suffer from high computational complexity and may not scale well to large datasets.\n",
        "\n",
        "SVM Classifier: The SVM classifier is a powerful algorithm that can handle both linearly separable and non-linearly separable datasets. It can capture complex relationships between features and create optimal decision boundaries. SVMs are particularly effective in high-dimensional spaces and can handle large datasets. However, SVMs can be computationally expensive and may require tuning of hyperparameters.\n",
        "\n",
        "In future situations, if the dataset is small, interpretable results are desired, or the data exhibits clear clusters, the kNN classifier may be a suitable choice. On the other hand, if the dataset is large, contains complex relationships, or requires non-linear decision boundaries, the SVM classifier may be more appropriate. It is important to consider the specific characteristics and requirements of the problem when selecting the appropriate model."
      ],
      "metadata": {
        "id": "kwyF8kwWH73O"
      }
    },
    {
      "cell_type": "code",
      "source": [
        "# 4 = Video"
      ],
      "metadata": {
        "id": "hb9DgGXP-rq6"
      },
      "execution_count": 17,
      "outputs": []
    },
    {
      "cell_type": "code",
      "source": [
        "from sklearn.model_selection import GridSearchCV\n",
        "\n",
        "# Define the parameter grid for grid search\n",
        "param_grid = {'n_neighbors': [5, 10, 15, 20]}  # Example values, you can adjust them\n",
        "\n",
        "# Create a kNN classifier\n",
        "knn = KNeighborsClassifier()\n",
        "\n",
        "# Perform grid search\n",
        "grid_search = GridSearchCV(knn, param_grid, cv=5)\n",
        "grid_search.fit(X_train, y_train)\n",
        "\n",
        "# best parameter\n",
        "best_k = grid_search.best_params_['n_neighbors']\n",
        "\n",
        "# Fit the classifier with the best parameter to the training data\n",
        "knn_best = KNeighborsClassifier(n_neighbors=best_k)\n",
        "knn_best.fit(X_train, y_train)\n",
        "\n",
        "# Predict the labels for the test data\n",
        "y_pred_best = knn_best.predict(X_test)\n",
        "\n",
        "# accuracy\n",
        "accuracy_best = accuracy_score(y_test, y_pred_best)\n",
        "\n",
        "print(accuracy_best)"
      ],
      "metadata": {
        "id": "lkaRuFZX-yEy",
        "colab": {
          "base_uri": "https://localhost:8080/"
        },
        "outputId": "bd7233a1-48eb-4761-8c3f-7ac3537ba4de"
      },
      "execution_count": 18,
      "outputs": [
        {
          "output_type": "stream",
          "name": "stdout",
          "text": [
            "0.9861111111111112\n"
          ]
        }
      ]
    },
    {
      "cell_type": "markdown",
      "source": [
        "We defined a parameter grid for grid search, created a kNN classifier, and performed grid search using GridSearchCV. We obtained the best parameter and created a new kNN classifier with that parameter. Then, we fitted it to the training data, made predictions on the test data, and calculated the accuracy of the classifier with the best parameter."
      ],
      "metadata": {
        "id": "0fvoa48Qx0iS"
      }
    },
    {
      "cell_type": "code",
      "source": [
        "from sklearn.model_selection import cross_val_score\n",
        "cross_val_scores = cross_val_score(knn, X_train, y_train, cv=5)\n",
        "\n",
        "# Calculate the mean accuracy from cross-validation scores\n",
        "mean_accuracy = cross_val_scores.mean()"
      ],
      "metadata": {
        "id": "CgzMYjoXAZv8"
      },
      "execution_count": 19,
      "outputs": []
    },
    {
      "cell_type": "markdown",
      "source": [
        "We used cross_val_score to perform cross-validation on the kNN classifier. We specified the number of folds (cv=5) and obtained the cross-validation scores. Finally, we calculated the mean accuracy from the cross-validation scores."
      ],
      "metadata": {
        "id": "UJGcDzO-Ku3V"
      }
    }
  ]
}