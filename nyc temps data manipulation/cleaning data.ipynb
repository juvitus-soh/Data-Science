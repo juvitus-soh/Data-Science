{
 "cells": [
  {
   "cell_type": "code",
   "execution_count": 25,
   "id": "04425eb0",
   "metadata": {},
   "outputs": [],
   "source": [
    "import pandas as pd\n",
    "import numpy as np\n",
    "from sklearn.tree import DecisionTreeClassifier\n",
    "from sklearn.tree import DecisionTreeClassifier as dtc\n",
    "from sklearn.model_selection import train_test_split as tts\n",
    "name = pd.read_csv('/home/leong/Desktop/nyc_temperature.csv')"
   ]
  },
  {
   "cell_type": "code",
   "execution_count": null,
   "id": "dfaa6aa0",
   "metadata": {},
   "outputs": [],
   "source": [
    "#df['tenure'] = df['tenure'].astype('int64')\n",
    "#df[['ID', 'tenure']] = df[['ID', 'tenure']].astype('int64')"
   ]
  },
  {
   "cell_type": "code",
   "execution_count": 26,
   "id": "7c52e0ce",
   "metadata": {},
   "outputs": [],
   "source": [
    "new_name = name.drop(columns = ['date', 'CDD', 'precipitation', 'new_snow', 'snow_depth','departure'])\n",
    "X = new_name.drop(columns = ['HDD'])\n",
    "y = new_name['HDD']\n",
    "model = DecisionTreeClassifier()"
   ]
  },
  {
   "cell_type": "code",
   "execution_count": 27,
   "id": "4e33e164",
   "metadata": {},
   "outputs": [
    {
     "name": "stderr",
     "output_type": "stream",
     "text": [
      "/home/leong/.local/lib/python3.11/site-packages/sklearn/base.py:439: UserWarning: X does not have valid feature names, but DecisionTreeClassifier was fitted with feature names\n",
      "  warnings.warn(\n"
     ]
    }
   ],
   "source": [
    "model.fit(X, y)\n",
    "predictions = model.predict([[40, 20, 30.0]])"
   ]
  },
  {
   "cell_type": "code",
   "execution_count": 28,
   "id": "8f6a1dde",
   "metadata": {},
   "outputs": [
    {
     "data": {
      "text/plain": [
       "array([35])"
      ]
     },
     "execution_count": 28,
     "metadata": {},
     "output_type": "execute_result"
    }
   ],
   "source": [
    "predictions"
   ]
  },
  {
   "cell_type": "code",
   "execution_count": null,
   "id": "b3f474f9",
   "metadata": {},
   "outputs": [],
   "source": []
  }
 ],
 "metadata": {
  "kernelspec": {
   "display_name": "Python 3 (ipykernel)",
   "language": "python",
   "name": "python3"
  },
  "language_info": {
   "codemirror_mode": {
    "name": "ipython",
    "version": 3
   },
   "file_extension": ".py",
   "mimetype": "text/x-python",
   "name": "python",
   "nbconvert_exporter": "python",
   "pygments_lexer": "ipython3",
   "version": "3.11.2"
  }
 },
 "nbformat": 4,
 "nbformat_minor": 5
}
